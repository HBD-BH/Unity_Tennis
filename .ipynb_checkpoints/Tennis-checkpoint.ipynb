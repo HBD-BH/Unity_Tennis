{
 "cells": [
  {
   "cell_type": "markdown",
   "metadata": {},
   "source": [
    "# Collaboration and Competition\n",
    "\n",
    "---\n",
    "\n",
    "In this notebook, you will learn how to use the Unity ML-Agents environment for the third project of the [Deep Reinforcement Learning Nanodegree](https://www.udacity.com/course/deep-reinforcement-learning-nanodegree--nd893) program.\n",
    "\n",
    "### 1. Start the Environment\n",
    "\n",
    "We begin by importing the necessary packages.  If the code cell below returns an error, please revisit the project instructions to double-check that you have installed [Unity ML-Agents](https://github.com/Unity-Technologies/ml-agents/blob/master/docs/Installation.md) and [NumPy](http://www.numpy.org/)."
   ]
  },
  {
   "cell_type": "code",
   "execution_count": 1,
   "metadata": {},
   "outputs": [],
   "source": [
    "from unityagents import UnityEnvironment\n",
    "import numpy as np"
   ]
  },
  {
   "cell_type": "markdown",
   "metadata": {},
   "source": [
    "Next, we will start the environment!  **_Before running the code cell below_**, change the `file_name` parameter to match the location of the Unity environment that you downloaded.\n",
    "\n",
    "- **Mac**: `\"path/to/Tennis.app\"`\n",
    "- **Windows** (x86): `\"path/to/Tennis_Windows_x86/Tennis.exe\"`\n",
    "- **Windows** (x86_64): `\"path/to/Tennis_Windows_x86_64/Tennis.exe\"`\n",
    "- **Linux** (x86): `\"path/to/Tennis_Linux/Tennis.x86\"`\n",
    "- **Linux** (x86_64): `\"path/to/Tennis_Linux/Tennis.x86_64\"`\n",
    "- **Linux** (x86, headless): `\"path/to/Tennis_Linux_NoVis/Tennis.x86\"`\n",
    "- **Linux** (x86_64, headless): `\"path/to/Tennis_Linux_NoVis/Tennis.x86_64\"`\n",
    "\n",
    "For instance, if you are using a Mac, then you downloaded `Tennis.app`.  If this file is in the same folder as the notebook, then the line below should appear as follows:\n",
    "```\n",
    "env = UnityEnvironment(file_name=\"Tennis.app\")\n",
    "```"
   ]
  },
  {
   "cell_type": "code",
   "execution_count": 2,
   "metadata": {},
   "outputs": [
    {
     "name": "stderr",
     "output_type": "stream",
     "text": [
      "INFO:unityagents:\n",
      "'Academy' started successfully!\n",
      "Unity Academy name: Academy\n",
      "        Number of Brains: 1\n",
      "        Number of External Brains : 1\n",
      "        Lesson number : 0\n",
      "        Reset Parameters :\n",
      "\t\t\n",
      "Unity brain name: TennisBrain\n",
      "        Number of Visual Observations (per agent): 0\n",
      "        Vector Observation space type: continuous\n",
      "        Vector Observation space size (per agent): 8\n",
      "        Number of stacked Vector Observation: 3\n",
      "        Vector Action space type: continuous\n",
      "        Vector Action space size (per agent): 2\n",
      "        Vector Action descriptions: , \n"
     ]
    }
   ],
   "source": [
    "env = UnityEnvironment(file_name=\"Tennis_Linux/Tennis.x86_64\")"
   ]
  },
  {
   "cell_type": "markdown",
   "metadata": {},
   "source": [
    "Environments contain **_brains_** which are responsible for deciding the actions of their associated agents. Here we check for the first brain available, and set it as the default brain we will be controlling from Python."
   ]
  },
  {
   "cell_type": "code",
   "execution_count": 3,
   "metadata": {},
   "outputs": [],
   "source": [
    "# get the default brain\n",
    "brain_name = env.brain_names[0]\n",
    "brain = env.brains[brain_name]"
   ]
  },
  {
   "cell_type": "markdown",
   "metadata": {},
   "source": [
    "### 2. Examine the State and Action Spaces\n",
    "\n",
    "In this environment, two agents control rackets to bounce a ball over a net. If an agent hits the ball over the net, it receives a reward of +0.1.  If an agent lets a ball hit the ground or hits the ball out of bounds, it receives a reward of -0.01.  Thus, the goal of each agent is to keep the ball in play.\n",
    "\n",
    "The observation space consists of 8 variables corresponding to the position and velocity of the ball and racket. Two continuous actions are available, corresponding to movement toward (or away from) the net, and jumping. \n",
    "\n",
    "Run the code cell below to print some information about the environment."
   ]
  },
  {
   "cell_type": "code",
   "execution_count": 4,
   "metadata": {},
   "outputs": [
    {
     "name": "stdout",
     "output_type": "stream",
     "text": [
      "Number of agents: 2\n",
      "Size of each action: 2\n",
      "There are 2 agents. Each observes a state with length: 24\n",
      "The state for the first agent looks like: [ 0.          0.          0.          0.          0.          0.\n",
      "  0.          0.          0.          0.          0.          0.\n",
      "  0.          0.          0.          0.         -6.65278625 -1.5\n",
      " -0.          0.          6.83172083  6.         -0.          0.        ]\n"
     ]
    }
   ],
   "source": [
    "# reset the environment\n",
    "env_info = env.reset(train_mode=True)[brain_name]\n",
    "\n",
    "# number of agents \n",
    "num_agents = len(env_info.agents)\n",
    "print('Number of agents:', num_agents)\n",
    "\n",
    "# size of each action\n",
    "action_size = brain.vector_action_space_size\n",
    "print('Size of each action:', action_size)\n",
    "\n",
    "# examine the state space \n",
    "states = env_info.vector_observations\n",
    "state_size = states.shape[1]\n",
    "print('There are {} agents. Each observes a state with length: {}'.format(states.shape[0], state_size))\n",
    "print('The state for the first agent looks like:', states[0])"
   ]
  },
  {
   "cell_type": "markdown",
   "metadata": {},
   "source": [
    "### 3. Take Random Actions in the Environment\n",
    "\n",
    "In the next code cell, you will learn how to use the Python API to control the agents and receive feedback from the environment.\n",
    "\n",
    "Once this cell is executed, you will watch the agents' performance, if they select actions at random with each time step.  A window should pop up that allows you to observe the agents.\n",
    "\n",
    "Of course, as part of the project, you'll have to change the code so that the agents are able to use their experiences to gradually choose better actions when interacting with the environment!"
   ]
  },
  {
   "cell_type": "code",
   "execution_count": 6,
   "metadata": {},
   "outputs": [
    {
     "name": "stdout",
     "output_type": "stream",
     "text": [
      "Score (max over agents) from episode 1: 0.0\n",
      "Score (max over agents) from episode 2: 0.0\n",
      "Score (max over agents) from episode 3: 0.0\n",
      "Score (max over agents) from episode 4: 0.0\n"
     ]
    }
   ],
   "source": [
    "for i in range(1, 5):                                      # play game for 5 episodes\n",
    "    env_info = env.reset(train_mode=False)[brain_name]     # reset the environment    \n",
    "    states = env_info.vector_observations                  # get the current state (for each agent)\n",
    "    scores = np.zeros(num_agents)                          # initialize the score (for each agent)\n",
    "    while True:\n",
    "        actions = np.random.randn(num_agents, action_size) # select an action (for each agent)\n",
    "        actions = np.clip(actions, -1, 1)                  # all actions between -1 and 1\n",
    "        env_info = env.step(actions)[brain_name]           # send all actions to tne environment\n",
    "        next_states = env_info.vector_observations         # get next state (for each agent)\n",
    "        rewards = env_info.rewards                         # get reward (for each agent)\n",
    "        dones = env_info.local_done                        # see if episode finished\n",
    "        scores += env_info.rewards                         # update the score (for each agent)\n",
    "        states = next_states                               # roll over states to next time step\n",
    "        if np.any(dones):                                  # exit loop if episode finished\n",
    "            break\n",
    "    print('Score (max over agents) from episode {}: {}'.format(i, np.max(scores)))"
   ]
  },
  {
   "cell_type": "markdown",
   "metadata": {},
   "source": [
    "For convenience, we concatenate all important commands into one, delete when done."
   ]
  },
  {
   "cell_type": "markdown",
   "metadata": {},
   "source": [
    "### 4. Setting up the Agent\n",
    "\n",
    "We will set up an MADDPG agent:"
   ]
  },
  {
   "cell_type": "code",
   "execution_count": 7,
   "metadata": {
    "scrolled": false
   },
   "outputs": [],
   "source": [
    "from maddpg import MADDPG_Agent\n",
    "seed=0\n",
    "\n",
    "num_agents = 2\n",
    "agent = MADDPG_Agent(state_size, action_size, num_agents, seed=seed)"
   ]
  },
  {
   "cell_type": "markdown",
   "metadata": {},
   "source": [
    "In case there is already a weight file available from previous training runs, then we can load it via this function call:"
   ]
  },
  {
   "cell_type": "code",
   "execution_count": 8,
   "metadata": {},
   "outputs": [],
   "source": [
    "filename_root = 'checkpoint_final'\n",
    "agent.load_weights(filename_root)"
   ]
  },
  {
   "cell_type": "markdown",
   "metadata": {},
   "source": [
    "### 5. Training\n",
    "In case no agent weights have been loaded, we need to train our agent."
   ]
  },
  {
   "cell_type": "code",
   "execution_count": 8,
   "metadata": {
    "scrolled": false
   },
   "outputs": [
    {
     "name": "stdout",
     "output_type": "stream",
     "text": [
      "Episode 100 (76.2s)\tAverage Max Score: 0.0066, Best of last 10 runs: 0.0900\n",
      "Episode 200 (93.3s)\tAverage Max Score: 0.0106, Best of last 10 runs: 0.0000\n",
      "Episode 300 (108.0s)\tAverage Max Score: 0.0160, Best of last 10 runs: 0.0900\n",
      "Episode 400 (163.5s)\tAverage Max Score: 0.0560, Best of last 10 runs: 0.1000\n",
      "Episode 500 (253.8s)\tAverage Max Score: 0.0981, Best of last 10 runs: 0.2900\n",
      "Episode 538 (111.2s)\tAverage Max Score: 0.1056, Best of last 10 runs: 0.3000\n",
      "New highscore: \t1.0000000149011612\tBacked up model.\n",
      "Episode 600 (405.6s)\tAverage Max Score: 0.1601, Best of last 10 runs: 0.3000\n",
      "Episode 700 (335.7s)\tAverage Max Score: 0.1337, Best of last 10 runs: 0.4000\n",
      "Episode 722 (91.5s)\tAverage Max Score: 0.1413, Best of last 10 runs: 0.5000\n",
      "New highscore: \t1.700000025331974\tBacked up model.\n",
      "Episode 756 (327.4s)\tAverage Max Score: 0.2011, Best of last 10 runs: 1.6000\n",
      "New highscore: \t2.500000037252903\tBacked up model.\n",
      "Episode 770 (515.0s)\tAverage Max Score: 0.2469, Best of last 10 runs: 1.0900\n",
      "New highscore: \t2.600000038743019\tBacked up model.\n",
      "Episode 800 (990.3s)\tAverage Max Score: 0.3522, Best of last 10 runs: 1.9900\n",
      "Episode 811 (587.0s)\tAverage Max Score: 0.5164, Best of last 10 runs: 2.6000\n",
      "Environment solved in 711 episodes!\tAverage Max Score: 0.5164, All-time best: 2.6000\n",
      "Should I continue training? [Y/n]n\n"
     ]
    }
   ],
   "source": [
    "from collections import deque\n",
    "import time\n",
    "            \n",
    "def maddpg(n_episodes=2000):\n",
    "    \"\"\"DDPG for solving reacher environment.\n",
    "    \n",
    "    Params\n",
    "    ======\n",
    "        n_episodes (int): maximum number of training episodes\n",
    "    \"\"\"\n",
    "    scores = []                         # List containing scores from each episode\n",
    "    moving_avgs = []                    # List containing the moving average\n",
    "    WINDOW_SIZE=100                     # Window relevant for solving the environment\n",
    "    scores_window = deque(maxlen=WINDOW_SIZE)   # Last 100 scores\n",
    "    best_score = -np.inf                # For the absolute max value ever reached\n",
    "    THRESH_SOLVED = 0.5                 # When is the environment considered solved?\n",
    "    solved = False                      # To keep track whether we already solved the environment\n",
    "    aggregate_output = WINDOW_SIZE      # Number of episodes to display in one changing line\n",
    "    save_checkpoint = 10*WINDOW_SIZE    # Save checkpoints to avoid big clashes in case workspace freezes.\n",
    "    \n",
    "    NOISE_START = 6                     # Scaling factor for noise at start\n",
    "    NOISE_END = 0                       # Leave a little noise for exploration also at the end\n",
    "    NOISE_DECAY_U_PER = 500             # Time until noise reduction is finished\n",
    "    \n",
    "    BETA_START = 0                      # PER: Start value for beta\n",
    "    BETA_END = 1                        # PER: End value for beta\n",
    "    BETA_DECAY_U_PER = 2000             # Until which episode to reach BETA_END\n",
    "\n",
    "    # Beta controls the importance weights. (0-no importance weights, 1-completely according to importance weights)\n",
    "    # In the beginning, we don't know which experiences are important, so just ignore.\n",
    "    # Later on, we want to sample more and more experiences out of the ones \n",
    "    #       we think are important, so increase beta over time.\n",
    "    beta_schedule = \\\n",
    "            lambda episode: min(BETA_END, \\\n",
    "                BETA_START + episode*(BETA_END - BETA_START)/BETA_DECAY_U_PER)\n",
    "    \n",
    "    # Action space noise: reduce to zero over time.\n",
    "    noise_schedule = \\\n",
    "            lambda episode: max(NOISE_END, \\\n",
    "                NOISE_START - episode*(NOISE_START - NOISE_END)/NOISE_DECAY_U_PER)\n",
    "    \n",
    "    for i_episode in range(1, n_episodes+1):\n",
    "        env_info = env.reset(train_mode=True)[brain_name]   # Reset the environment to train mode\n",
    "        states = env_info.vector_observations               # Get initial state\n",
    "        score = np.zeros(num_agents)                        # Reset scores\n",
    "        noise_cur = noise_schedule(i_episode)               # Reduction of noise \n",
    "        beta_cur = beta_schedule(i_episode)                 # Increase of beta\n",
    "        \n",
    "        # Reset noises\n",
    "        agent.reset()\n",
    "        \n",
    "        # Keep track of the time\n",
    "        if (i_episode - 1) % aggregate_output == 0:\n",
    "            start_time = time.time()\n",
    "        \n",
    "        while True: \n",
    "            # actions = agent.act(states, noise=noise_cur)    # Get action from actor\n",
    "            actions = agent.act(states, noise_cur)\n",
    "            env_info = env.step(actions)[brain_name]        # Send action to the environment\n",
    "            next_states = env_info.vector_observations      # Get the next state, ...\n",
    "            rewards = env_info.rewards                      # ..., reward ...\n",
    "            dones = env_info.local_done                     # ..., and whether the episode has finished\n",
    "            done = any(dones)                             # We're done if any of the agent fails\n",
    "\n",
    "            # Take one step, learn new weights via soft update\n",
    "            agent.step(states, actions, rewards, next_states, done, beta_cur) \n",
    "            states = next_states                            # Progress states \n",
    "            score += rewards                                # Update score\n",
    "            \n",
    "            if np.any(dones):\n",
    "                break\n",
    "        # Track timing and progress\n",
    "        duration = time.time() - start_time\n",
    "        scores.append(max(score))                           # Save most recent score\n",
    "        scores_window.append(scores[-1])                    # Save most recent score\n",
    "        moving_avgs.append(np.mean(scores_window))\n",
    "        \n",
    "        # If we were better than the highscore, save model\n",
    "        if max(score)>best_score and max(score)>THRESH_SOLVED:\n",
    "            best_score = scores[-1]\n",
    "            filename=filename_root+f\"_e{i_episode}_s{best_score:.3f}\"\n",
    "            agent.save(filename)\n",
    "            print(f\"\\nNew highscore: \\t{scores[-1]}\\tBacked up model.\")\n",
    "        \n",
    "        # Display some progress\n",
    "        print(f\"\\rEpisode {i_episode} ({duration:.1f}s)\"\\\n",
    "              f\"\\tAverage Max Score: {moving_avgs[-1]:.4f}, \"\\\n",
    "              f\"Best of last 10 runs: {np.max(scores[-10:]):.4f}\", end=\"\")\n",
    "        if i_episode % aggregate_output == 0:\n",
    "            print(f\"\\rEpisode {i_episode} ({duration:.1f}s)\"\\\n",
    "                  f\"\\tAverage Max Score: {moving_avgs[-1]:.4f}, \"\\\n",
    "                  f\"Best of last 10 runs: {np.max(scores[-10:]):.4f}\")\n",
    "        # Save model from time to time\n",
    "        if i_episode % save_checkpoint == 0:\n",
    "            filename = filename_root+f\"_e{i_episode}\"\n",
    "            agent.save(filename)\n",
    "            print(\"Backed up model.\\n\")\n",
    "        \n",
    "        # Only print \"solved\" if target score reached for the first time\n",
    "        if moving_avgs[-1] >= THRESH_SOLVED and i_episode>= WINDOW_SIZE and not solved:    \n",
    "            print(f\"\\nEnvironment solved in {i_episode - WINDOW_SIZE:d} episodes!\"\\\n",
    "                  f\"\\tAverage Max Score: {moving_avgs[-1]:.4f}, All-time best: {best_score:.4f}\")\n",
    "            filename = filename_root+f\"_solved_e{i_episode-WINDOW_SIZE}\"\n",
    "            agent.save(filename)\n",
    "            solved = True\n",
    "            # Give the user the possibility to cancel further training\n",
    "            answer = input(\"Should I continue training? [Y/n]\")  \n",
    "            if answer.lower()=='n':\n",
    "                break\n",
    "    return scores, moving_avgs\n",
    "\n",
    "filename_root = 'checkpoint'\n",
    "# Train agent and keep track of the scores\n",
    "if 'scores_tot' in locals():\n",
    "    # Append if scores already exist, adjust epsilon to final value\n",
    "    print(f\"Continue training after having already trained for {len(scores_tot)} episodes.\\n\")\n",
    "    new_scores, new_moving_avgs = maddpg(n_episodes=300) \n",
    "    scores_tot = np.append(scores_tot,new_scores)\n",
    "    moving_avgs_tot = np.append(moving_avgs_tot,new_moving_avgs)\n",
    "else: \n",
    "    # No scores have been generated, so start training all over, again\n",
    "    scores_tot, moving_avgs_tot = maddpg()"
   ]
  },
  {
   "cell_type": "markdown",
   "metadata": {},
   "source": [
    "When we are finished, we can back up our model:"
   ]
  },
  {
   "cell_type": "code",
   "execution_count": 9,
   "metadata": {},
   "outputs": [],
   "source": [
    "filename_root = \"checkpoint_final\"\n",
    "agent.save(filename_root)"
   ]
  },
  {
   "cell_type": "markdown",
   "metadata": {},
   "source": [
    "### 6. Visualization \n",
    "\n",
    "When we're done, we can visualize our results."
   ]
  },
  {
   "cell_type": "code",
   "execution_count": 10,
   "metadata": {
    "scrolled": true
   },
   "outputs": [
    {
     "data": {
      "image/png": "[encoded data removed]",
      "text/plain": [
       "<Figure size 432x288 with 1 Axes>"
      ]
     },
     "metadata": {
      "needs_background": "light"
     },
     "output_type": "display_data"
    }
   ],
   "source": [
    "import matplotlib.pyplot as plt\n",
    "fig = plt.figure()\n",
    "plt.plot(np.arange(len(scores_tot)), scores_tot, label='MADDPG')\n",
    "plt.plot(np.arange(len(scores_tot)), moving_avgs_tot, c='r', label='Moving AVG')\n",
    "plt.ylabel('Score')\n",
    "plt.xlabel('Episode #')\n",
    "plt.legend(loc='upper left')\n",
    "plt.show()"
   ]
  },
  {
   "cell_type": "markdown",
   "metadata": {},
   "source": [
    "Check how a trained model behaves."
   ]
  },
  {
   "cell_type": "code",
   "execution_count": 9,
   "metadata": {},
   "outputs": [
    {
     "name": "stdout",
     "output_type": "stream",
     "text": [
      "Score (max over agents) in episode 4: 1.600000023841858\n"
     ]
    }
   ],
   "source": [
    "env_info = env.reset(train_mode=False)[brain_name]     # reset the environment    \n",
    "states = env_info.vector_observations                  # get the current state (for each agent)\n",
    "scores = np.zeros(num_agents)                          # initialize the score (for each agent)\n",
    "while True:\n",
    "    actions = agent.act(states, noise=0.0)    # Get action from actor\n",
    "    env_info = env.step(actions)[brain_name]           # send all actions to tne environment\n",
    "    next_states = env_info.vector_observations         # get next state (for each agent)\n",
    "    rewards = env_info.rewards                         # get reward (for each agent)\n",
    "    dones = env_info.local_done                        # see if episode finished\n",
    "    scores += env_info.rewards                         # update the score (for each agent)\n",
    "    states = next_states                               # roll over states to next time step\n",
    "    if np.any(dones):                                  # exit loop if episode finished\n",
    "        break\n",
    "print(f\"Score (max over agents) in episode {i}: {np.max(scores)}\")"
   ]
  },
  {
   "cell_type": "markdown",
   "metadata": {},
   "source": [
    "When finished, we should close the environment."
   ]
  },
  {
   "cell_type": "code",
   "execution_count": 10,
   "metadata": {},
   "outputs": [],
   "source": [
    "env.close()"
   ]
  }
 ],
 "metadata": {
  "kernelspec": {
   "display_name": "drlnd",
   "language": "python",
   "name": "drlnd"
  },
  "language_info": {
   "codemirror_mode": {
    "name": "ipython",
    "version": 3
   },
   "file_extension": ".py",
   "mimetype": "text/x-python",
   "name": "python",
   "nbconvert_exporter": "python",
   "pygments_lexer": "ipython3",
   "version": "3.6.10"
  }
 },
 "nbformat": 4,
 "nbformat_minor": 2
}
