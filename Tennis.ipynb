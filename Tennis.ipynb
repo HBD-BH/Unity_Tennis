{
 "cells": [
  {
   "cell_type": "markdown",
   "metadata": {},
   "source": [
    "# Collaboration and Competition\n",
    "\n",
    "---\n",
    "\n",
    "In this notebook, you will learn how to use the Unity ML-Agents environment for the third project of the [Deep Reinforcement Learning Nanodegree](https://www.udacity.com/course/deep-reinforcement-learning-nanodegree--nd893) program.\n",
    "\n",
    "### 1. Start the Environment\n",
    "\n",
    "We begin by importing the necessary packages.  If the code cell below returns an error, please revisit the project instructions to double-check that you have installed [Unity ML-Agents](https://github.com/Unity-Technologies/ml-agents/blob/master/docs/Installation.md) and [NumPy](http://www.numpy.org/)."
   ]
  },
  {
   "cell_type": "code",
   "execution_count": 1,
   "metadata": {},
   "outputs": [],
   "source": [
    "from unityagents import UnityEnvironment\n",
    "import numpy as np"
   ]
  },
  {
   "cell_type": "markdown",
   "metadata": {},
   "source": [
    "Next, we will start the environment!  **_Before running the code cell below_**, change the `file_name` parameter to match the location of the Unity environment that you downloaded.\n",
    "\n",
    "- **Mac**: `\"path/to/Tennis.app\"`\n",
    "- **Windows** (x86): `\"path/to/Tennis_Windows_x86/Tennis.exe\"`\n",
    "- **Windows** (x86_64): `\"path/to/Tennis_Windows_x86_64/Tennis.exe\"`\n",
    "- **Linux** (x86): `\"path/to/Tennis_Linux/Tennis.x86\"`\n",
    "- **Linux** (x86_64): `\"path/to/Tennis_Linux/Tennis.x86_64\"`\n",
    "- **Linux** (x86, headless): `\"path/to/Tennis_Linux_NoVis/Tennis.x86\"`\n",
    "- **Linux** (x86_64, headless): `\"path/to/Tennis_Linux_NoVis/Tennis.x86_64\"`\n",
    "\n",
    "For instance, if you are using a Mac, then you downloaded `Tennis.app`.  If this file is in the same folder as the notebook, then the line below should appear as follows:\n",
    "```\n",
    "env = UnityEnvironment(file_name=\"Tennis.app\")\n",
    "```"
   ]
  },
  {
   "cell_type": "code",
   "execution_count": 2,
   "metadata": {},
   "outputs": [
    {
     "name": "stderr",
     "output_type": "stream",
     "text": [
      "INFO:unityagents:\n",
      "'Academy' started successfully!\n",
      "Unity Academy name: Academy\n",
      "        Number of Brains: 1\n",
      "        Number of External Brains : 1\n",
      "        Lesson number : 0\n",
      "        Reset Parameters :\n",
      "\t\t\n",
      "Unity brain name: TennisBrain\n",
      "        Number of Visual Observations (per agent): 0\n",
      "        Vector Observation space type: continuous\n",
      "        Vector Observation space size (per agent): 8\n",
      "        Number of stacked Vector Observation: 3\n",
      "        Vector Action space type: continuous\n",
      "        Vector Action space size (per agent): 2\n",
      "        Vector Action descriptions: , \n"
     ]
    }
   ],
   "source": [
    "env = UnityEnvironment(file_name=\"Tennis_Linux/Tennis.x86_64\")"
   ]
  },
  {
   "cell_type": "markdown",
   "metadata": {},
   "source": [
    "Environments contain **_brains_** which are responsible for deciding the actions of their associated agents. Here we check for the first brain available, and set it as the default brain we will be controlling from Python."
   ]
  },
  {
   "cell_type": "code",
   "execution_count": 3,
   "metadata": {},
   "outputs": [],
   "source": [
    "# get the default brain\n",
    "brain_name = env.brain_names[0]\n",
    "brain = env.brains[brain_name]"
   ]
  },
  {
   "cell_type": "markdown",
   "metadata": {},
   "source": [
    "### 2. Examine the State and Action Spaces\n",
    "\n",
    "In this environment, two agents control rackets to bounce a ball over a net. If an agent hits the ball over the net, it receives a reward of +0.1.  If an agent lets a ball hit the ground or hits the ball out of bounds, it receives a reward of -0.01.  Thus, the goal of each agent is to keep the ball in play.\n",
    "\n",
    "The observation space consists of 8 variables corresponding to the position and velocity of the ball and racket. Two continuous actions are available, corresponding to movement toward (or away from) the net, and jumping. \n",
    "\n",
    "Run the code cell below to print some information about the environment."
   ]
  },
  {
   "cell_type": "code",
   "execution_count": 4,
   "metadata": {},
   "outputs": [
    {
     "name": "stdout",
     "output_type": "stream",
     "text": [
      "Number of agents: 2\n",
      "Size of each action: 2\n",
      "There are 2 agents. Each observes a state with length: 24\n",
      "The state for the first agent looks like: [ 0.          0.          0.          0.          0.          0.\n",
      "  0.          0.          0.          0.          0.          0.\n",
      "  0.          0.          0.          0.         -6.65278625 -1.5\n",
      " -0.          0.          6.83172083  6.         -0.          0.        ]\n"
     ]
    }
   ],
   "source": [
    "# reset the environment\n",
    "env_info = env.reset(train_mode=True)[brain_name]\n",
    "\n",
    "# number of agents \n",
    "num_agents = len(env_info.agents)\n",
    "print('Number of agents:', num_agents)\n",
    "\n",
    "# size of each action\n",
    "action_size = brain.vector_action_space_size\n",
    "print('Size of each action:', action_size)\n",
    "\n",
    "# examine the state space \n",
    "states = env_info.vector_observations\n",
    "state_size = states.shape[1]\n",
    "print('There are {} agents. Each observes a state with length: {}'.format(states.shape[0], state_size))\n",
    "print('The state for the first agent looks like:', states[0])"
   ]
  },
  {
   "cell_type": "markdown",
   "metadata": {},
   "source": [
    "### 3. Take Random Actions in the Environment\n",
    "\n",
    "In the next code cell, you will learn how to use the Python API to control the agents and receive feedback from the environment.\n",
    "\n",
    "Once this cell is executed, you will watch the agents' performance, if they select actions at random with each time step.  A window should pop up that allows you to observe the agents.\n",
    "\n",
    "Of course, as part of the project, you'll have to change the code so that the agents are able to use their experiences to gradually choose better actions when interacting with the environment!"
   ]
  },
  {
   "cell_type": "code",
   "execution_count": 5,
   "metadata": {},
   "outputs": [
    {
     "name": "stdout",
     "output_type": "stream",
     "text": [
      "Score (max over agents) from episode 1: 0.09000000171363354\n",
      "Score (max over agents) from episode 2: 0.09000000171363354\n",
      "Score (max over agents) from episode 3: 0.0\n",
      "Score (max over agents) from episode 4: 0.0\n",
      "Score (max over agents) from episode 5: 0.0\n"
     ]
    }
   ],
   "source": [
    "for i in range(1, 6):                                      # play game for 5 episodes\n",
    "    env_info = env.reset(train_mode=False)[brain_name]     # reset the environment    \n",
    "    states = env_info.vector_observations                  # get the current state (for each agent)\n",
    "    scores = np.zeros(num_agents)                          # initialize the score (for each agent)\n",
    "    while True:\n",
    "        actions = np.random.randn(num_agents, action_size) # select an action (for each agent)\n",
    "        actions = np.clip(actions, -1, 1)                  # all actions between -1 and 1\n",
    "        env_info = env.step(actions)[brain_name]           # send all actions to tne environment\n",
    "        next_states = env_info.vector_observations         # get next state (for each agent)\n",
    "        rewards = env_info.rewards                         # get reward (for each agent)\n",
    "        dones = env_info.local_done                        # see if episode finished\n",
    "        scores += env_info.rewards                         # update the score (for each agent)\n",
    "        states = next_states                               # roll over states to next time step\n",
    "        if np.any(dones):                                  # exit loop if episode finished\n",
    "            break\n",
    "    print('Score (max over agents) from episode {}: {}'.format(i, np.max(scores)))"
   ]
  },
  {
   "cell_type": "code",
   "execution_count": 1,
   "metadata": {},
   "outputs": [
    {
     "name": "stderr",
     "output_type": "stream",
     "text": [
      "INFO:unityagents:\n",
      "'Academy' started successfully!\n",
      "Unity Academy name: Academy\n",
      "        Number of Brains: 1\n",
      "        Number of External Brains : 1\n",
      "        Lesson number : 0\n",
      "        Reset Parameters :\n",
      "\t\t\n",
      "Unity brain name: TennisBrain\n",
      "        Number of Visual Observations (per agent): 0\n",
      "        Vector Observation space type: continuous\n",
      "        Vector Observation space size (per agent): 8\n",
      "        Number of stacked Vector Observation: 3\n",
      "        Vector Action space type: continuous\n",
      "        Vector Action space size (per agent): 2\n",
      "        Vector Action descriptions: , \n"
     ]
    }
   ],
   "source": [
    "from unityagents import UnityEnvironment\n",
    "import numpy as np\n",
    "env = UnityEnvironment(file_name=\"Tennis_Linux/Tennis.x86_64\")\n",
    "brain_name = env.brain_names[0]\n",
    "brain = env.brains[brain_name]\n",
    "env_info = env.reset(train_mode=True)[brain_name]\n",
    "num_agents = len(env_info.agents)\n",
    "action_size = brain.vector_action_space_size\n",
    "states = env_info.vector_observations\n",
    "state_size = states.shape[1]"
   ]
  },
  {
   "cell_type": "markdown",
   "metadata": {},
   "source": [
    "### 4. Setting up the Agent\n",
    "\n",
    "We will set up an MADDPG agent:"
   ]
  },
  {
   "cell_type": "code",
   "execution_count": 8,
   "metadata": {},
   "outputs": [],
   "source": [
    "from maddpg import MADDPG_Agent\n",
    "num_agents = 2\n",
    "agent = MADDPG_Agent(state_size, action_size, num_agents)"
   ]
  },
  {
   "cell_type": "markdown",
   "metadata": {},
   "source": [
    "In case there is already a weight file available from previous training runs, then we can load it via this function call:"
   ]
  },
  {
   "cell_type": "code",
   "execution_count": null,
   "metadata": {},
   "outputs": [],
   "source": [
    "filename_root = 'checkpoint'\n",
    "agent.load_weights(filename_root)"
   ]
  },
  {
   "cell_type": "markdown",
   "metadata": {},
   "source": [
    "### 5. Training\n",
    "In case no agent weights have been loaded, we need to train our agent."
   ]
  },
  {
   "cell_type": "code",
   "execution_count": null,
   "metadata": {
    "scrolled": true
   },
   "outputs": [
    {
     "name": "stdout",
     "output_type": "stream",
     "text": [
      "Episode 100 (72.8s)\tAverage Max Score: 0.00, All-time best: -inf\n",
      "Episode 200 (92.4s)\tAverage Max Score: 0.01, All-time best: -inf\n",
      "Episode 300 (98.9s)\tAverage Max Score: 0.01, All-time best: -inf\n",
      "Episode 400 (81.4s)\tAverage Max Score: 0.01, All-time best: -inf\n",
      "Episode 500 (93.9s)\tAverage Max Score: 0.02, All-time best: -inf\n",
      "Episode 600 (98.6s)\tAverage Max Score: 0.03, All-time best: -inf\n",
      "Episode 700 (110.4s)\tAverage Max Score: 0.04, All-time best: -inf\n",
      "Episode 800 (99.8s)\tAverage Max Score: 0.03, All-time best: -inf\n",
      "Episode 900 (108.6s)\tAverage Max Score: 0.04, All-time best: -inf\n",
      "Episode 1000 (105.6s)\tAverage Max Score: 0.04, All-time best: -inf\n",
      "Episode 1100 (97.8s)\tAverage Max Score: 0.03, All-time best: -inf\n",
      "Episode 1200 (104.3s)\tAverage Max Score: 0.03, All-time best: -inf\n",
      "Episode 1300 (95.9s)\tAverage Max Score: 0.03, All-time best: -inf\n",
      "Episode 1400 (95.2s)\tAverage Max Score: 0.03, All-time best: -inf\n",
      "Episode 1500 (112.7s)\tAverage Max Score: 0.05, All-time best: -inf\n",
      "Episode 1600 (99.3s)\tAverage Max Score: 0.03, All-time best: -inf\n",
      "Episode 1700 (106.7s)\tAverage Max Score: 0.04, All-time best: -inf\n",
      "Episode 1800 (111.6s)\tAverage Max Score: 0.05, All-time best: -inf\n",
      "Episode 1900 (99.5s)\tAverage Max Score: 0.03, All-time best: -inf\n",
      "Episode 2000 (113.0s)\tAverage Max Score: 0.05, All-time best: -inf\n",
      "Episode 2100 (107.3s)\tAverage Max Score: 0.04, All-time best: -inf\n",
      "Episode 2200 (132.7s)\tAverage Max Score: 0.06, All-time best: -inf\n",
      "Episode 2250 (81.0s)\tAverage Max Score: 0.08, All-time best: -inf\n",
      "New highscore: \t0.800000011920929\n",
      "Episode 2300 (176.6s)\tAverage Max Score: 0.08, All-time best: 0.80\n",
      "Episode 2400 (152.3s)\tAverage Max Score: 0.06, All-time best: 0.80\n",
      "Episode 2500 (120.1s)\tAverage Max Score: 0.04, All-time best: 0.80\n",
      "Episode 2600 (137.0s)\tAverage Max Score: 0.05, All-time best: 0.80\n",
      "Episode 2700 (134.9s)\tAverage Max Score: 0.05, All-time best: 0.80\n",
      "Episode 2800 (126.2s)\tAverage Max Score: 0.05, All-time best: 0.80\n",
      "Episode 2900 (131.8s)\tAverage Max Score: 0.06, All-time best: 0.80\n",
      "Episode 3000 (141.6s)\tAverage Max Score: 0.06, All-time best: 0.80\n",
      "Episode 3100 (129.1s)\tAverage Max Score: 0.04, All-time best: 0.80\n",
      "Episode 3200 (123.9s)\tAverage Max Score: 0.04, All-time best: 0.80\n",
      "Episode 3300 (117.8s)\tAverage Max Score: 0.05, All-time best: 0.80\n",
      "Episode 3400 (119.9s)\tAverage Max Score: 0.05, All-time best: 0.80\n",
      "Episode 3500 (120.3s)\tAverage Max Score: 0.04, All-time best: 0.80\n",
      "Episode 3600 (136.8s)\tAverage Max Score: 0.05, All-time best: 0.80\n",
      "Episode 3700 (124.7s)\tAverage Max Score: 0.04, All-time best: 0.80\n",
      "Episode 3800 (132.8s)\tAverage Max Score: 0.05, All-time best: 0.80\n",
      "Episode 3900 (133.8s)\tAverage Max Score: 0.05, All-time best: 0.80\n",
      "Episode 4000 (130.8s)\tAverage Max Score: 0.05, All-time best: 0.80\n",
      "Episode 4100 (129.9s)\tAverage Max Score: 0.04, All-time best: 0.80\n",
      "Episode 4200 (123.7s)\tAverage Max Score: 0.04, All-time best: 0.80\n",
      "Episode 4300 (131.5s)\tAverage Max Score: 0.05, All-time best: 0.80\n",
      "Episode 4400 (128.5s)\tAverage Max Score: 0.04, All-time best: 0.80\n",
      "Episode 4500 (131.1s)\tAverage Max Score: 0.04, All-time best: 0.80\n",
      "Episode 4600 (134.1s)\tAverage Max Score: 0.05, All-time best: 0.80\n",
      "Episode 4700 (145.8s)\tAverage Max Score: 0.06, All-time best: 0.80\n",
      "Episode 4800 (136.2s)\tAverage Max Score: 0.05, All-time best: 0.80\n",
      "Episode 4900 (134.7s)\tAverage Max Score: 0.05, All-time best: 0.80\n",
      "Episode 5000 (136.9s)\tAverage Max Score: 0.05, All-time best: 0.80\n",
      "Episode 5100 (191.7s)\tAverage Max Score: 0.05, All-time best: 0.80\n",
      "Episode 5200 (137.3s)\tAverage Max Score: 0.04, All-time best: 0.80\n",
      "Episode 5300 (143.8s)\tAverage Max Score: 0.04, All-time best: 0.80\n",
      "Episode 5400 (196.7s)\tAverage Max Score: 0.05, All-time best: 0.80\n",
      "Episode 5500 (167.3s)\tAverage Max Score: 0.04, All-time best: 0.80\n",
      "Episode 5600 (160.3s)\tAverage Max Score: 0.05, All-time best: 0.80\n",
      "Episode 5700 (181.9s)\tAverage Max Score: 0.05, All-time best: 0.80\n",
      "Episode 5787 (180.3s)\tAverage Max Score: 0.05, All-time best: 0.80"
     ]
    }
   ],
   "source": [
    "from collections import deque\n",
    "import time\n",
    "            \n",
    "def maddpg(n_episodes=6000):\n",
    "    \"\"\"DDPG for solving reacher environment.\n",
    "    \n",
    "    Params\n",
    "    ======\n",
    "        n_episodes (int): maximum number of training episodes\n",
    "        max_t (int): maximum number of timesteps per episode\n",
    "    \"\"\"\n",
    "    scores = []                         # List containing scores from each episode\n",
    "    moving_avgs = []\n",
    "    WINDOW_SIZE=100\n",
    "    scores_window = deque(maxlen=WINDOW_SIZE)   # Last 100 scores\n",
    "    best_score = -np.inf       # For the absolute max value ever reached\n",
    "    THRESH_SOLVED = 0.5\n",
    "    solved = False                      # To keep track whether we already solved the environment\n",
    "    aggregate_output = WINDOW_SIZE       # Number of episodes to display in one changing line\n",
    "    \n",
    "    NOISE_START = 4               # Scaling factor for noise\n",
    "    NOISE_END = 0\n",
    "    NOISE_PER_PERIOD = 1000     # Nominator for determining next iteration's noise\n",
    "\n",
    "    noise_schedule = \\\n",
    "        lambda episode: max(NOISE_END, NOISE_START - episode * (NOISE_START - NOISE_END)/NOISE_PER_PERIOD)\n",
    "    \n",
    "    for i_episode in range(1, n_episodes+1):\n",
    "        env_info = env.reset(train_mode=True)[brain_name]  # Reset the environment to train mode\n",
    "        state = env_info.vector_observations               # Get initial state\n",
    "        score = np.zeros(num_agents)                      # Reset scores\n",
    "        noise_cur = noise_schedule(i_episode)                       # Reduce noise\n",
    "        if (i_episode - 1) % aggregate_output == 0:\n",
    "            start_time = time.time()\n",
    "        \n",
    "        while True: \n",
    "            actions = agent.act(state, noise=noise_cur)                 # Get action from actor\n",
    "            #print(f\"Actions: {actions}\")\n",
    "            #for i, ac in enumerate(actions):\n",
    "                #actions[i] = np.clip(actions[i].detach(),-1,1).numpy()\n",
    "                #actions = np.clip(actions, -1, 1).numpy()      # Clip it to valid range\n",
    "            # actions_array = torch.stack(actions).detach().numpy()\n",
    "\n",
    "            env_info = env.step(actions)[brain_name]       # Send action to the environment\n",
    "            next_state = env_info.vector_observations      # Get the next state, ...\n",
    "            reward = env_info.rewards                      # ..., reward ...\n",
    "            done = env_info.local_done                     # ..., and whether the episode has finished \n",
    "            agent.step(state, actions, reward, next_state, done)  # Take one step, learn new weights via soft update\n",
    "            state = next_state                             # Progress states \n",
    "            score += reward                                # Update score\n",
    "            \n",
    "            if np.any(done):\n",
    "                break\n",
    "        duration = time.time() - start_time\n",
    "        scores.append(max(score))                               # Save most recent score\n",
    "        scores_window.append(scores[-1])                        # Save most recent score\n",
    "        if max(score)>best_score and max(score)>THRESH_SOLVED:\n",
    "            print(f\"\\nNew highscore: \\t{scores[-1]}\")\n",
    "            best_score = scores[-1]\n",
    "        moving_avgs.append(np.mean(scores_window))\n",
    "        \n",
    "        # display some progress\n",
    "        print('\\rEpisode {} ({:.1f}s)\\tAverage Max Score: {:.2f}, All-time best: {:.2f}'.format(\\\n",
    "                        i_episode, duration, moving_avgs[-1], best_score), end=\"\")\n",
    "        if i_episode% aggregate_output == 0:\n",
    "            print('\\rEpisode {} ({:.1f}s)\\tAverage Max Score: {:.2f}, All-time best: {:.2f}'.format(\\\n",
    "                        i_episode, duration, moving_avgs[-1], best_score))\n",
    "        \n",
    "        if moving_avgs[-1] >= THRESH_SOLVED and i_episode>= WINDOW_SIZE and not solved:    # Only print \"solved\" if target score reached for the first time\n",
    "            print(\"\\nEnvironment solved in {:d} episodes!\\tAverage Max Score: {:.2f}, All-time best: {.2f}\".format\n",
    "                 (i_episode - WINDOW_SIZE, moving_avgs[-1], best_score))\n",
    "            solved = True\n",
    "            answer = input(\"Should I continue training? [Y/n]\")  # Give the user the possibility to cancel further training\n",
    "            if answer.lower()=='n':\n",
    "                break\n",
    "    return scores, moving_avgs\n",
    "\n",
    "\n",
    "# Train agent and keep track of the scores\n",
    "if 'scores' in locals():\n",
    "    # Append if scores already exist, adjust epsilon to final value\n",
    "    new_scores, new_moving_avgs = maddpg(n_episodes=100) \n",
    "    scores.append(new_scores)\n",
    "    moving_avgs.append(new_moving_avgs)\n",
    "else: \n",
    "    # No scores have been generated, so start training all over, again\n",
    "    scores, moving_avgs = maddpg()"
   ]
  },
  {
   "cell_type": "code",
   "execution_count": 14,
   "metadata": {
    "scrolled": true
   },
   "outputs": [
    {
     "ename": "NameError",
     "evalue": "name 'moving_avgs' is not defined",
     "output_type": "error",
     "traceback": [
      "\u001b[0;31m---------------------------------------------------------------------------\u001b[0m",
      "\u001b[0;31mNameError\u001b[0m                                 Traceback (most recent call last)",
      "\u001b[0;32m<ipython-input-14-73a0a4372601>\u001b[0m in \u001b[0;36m<module>\u001b[0;34m\u001b[0m\n\u001b[1;32m      3\u001b[0m \u001b[0max\u001b[0m \u001b[0;34m=\u001b[0m \u001b[0mfig\u001b[0m\u001b[0;34m.\u001b[0m\u001b[0madd_subplot\u001b[0m\u001b[0;34m(\u001b[0m\u001b[0;36m111\u001b[0m\u001b[0;34m)\u001b[0m\u001b[0;34m\u001b[0m\u001b[0;34m\u001b[0m\u001b[0m\n\u001b[1;32m      4\u001b[0m \u001b[0mplt\u001b[0m\u001b[0;34m.\u001b[0m\u001b[0mplot\u001b[0m\u001b[0;34m(\u001b[0m\u001b[0mnp\u001b[0m\u001b[0;34m.\u001b[0m\u001b[0marange\u001b[0m\u001b[0;34m(\u001b[0m\u001b[0mlen\u001b[0m\u001b[0;34m(\u001b[0m\u001b[0mscores\u001b[0m\u001b[0;34m)\u001b[0m\u001b[0;34m)\u001b[0m\u001b[0;34m,\u001b[0m \u001b[0mscores\u001b[0m\u001b[0;34m,\u001b[0m \u001b[0mlabel\u001b[0m\u001b[0;34m=\u001b[0m\u001b[0;34m'DDPG'\u001b[0m\u001b[0;34m)\u001b[0m\u001b[0;34m\u001b[0m\u001b[0;34m\u001b[0m\u001b[0m\n\u001b[0;32m----> 5\u001b[0;31m \u001b[0mplt\u001b[0m\u001b[0;34m.\u001b[0m\u001b[0mplot\u001b[0m\u001b[0;34m(\u001b[0m\u001b[0mnp\u001b[0m\u001b[0;34m.\u001b[0m\u001b[0marange\u001b[0m\u001b[0;34m(\u001b[0m\u001b[0mlen\u001b[0m\u001b[0;34m(\u001b[0m\u001b[0mscores\u001b[0m\u001b[0;34m)\u001b[0m\u001b[0;34m)\u001b[0m\u001b[0;34m,\u001b[0m \u001b[0mmoving_avgs\u001b[0m\u001b[0;34m,\u001b[0m \u001b[0mc\u001b[0m\u001b[0;34m=\u001b[0m\u001b[0;34m'r'\u001b[0m\u001b[0;34m,\u001b[0m \u001b[0mlabel\u001b[0m\u001b[0;34m=\u001b[0m\u001b[0;34m'Moving AVG'\u001b[0m\u001b[0;34m)\u001b[0m\u001b[0;34m\u001b[0m\u001b[0;34m\u001b[0m\u001b[0m\n\u001b[0m\u001b[1;32m      6\u001b[0m \u001b[0mplt\u001b[0m\u001b[0;34m.\u001b[0m\u001b[0mylabel\u001b[0m\u001b[0;34m(\u001b[0m\u001b[0;34m'Score'\u001b[0m\u001b[0;34m)\u001b[0m\u001b[0;34m\u001b[0m\u001b[0;34m\u001b[0m\u001b[0m\n\u001b[1;32m      7\u001b[0m \u001b[0mplt\u001b[0m\u001b[0;34m.\u001b[0m\u001b[0mxlabel\u001b[0m\u001b[0;34m(\u001b[0m\u001b[0;34m'Episode #'\u001b[0m\u001b[0;34m)\u001b[0m\u001b[0;34m\u001b[0m\u001b[0;34m\u001b[0m\u001b[0m\n",
      "\u001b[0;31mNameError\u001b[0m: name 'moving_avgs' is not defined"
     ]
    },
    {
     "data": {
      "image/png": "[encoded data removed]",
      "text/plain": [
       "<Figure size 432x288 with 1 Axes>"
      ]
     },
     "metadata": {
      "needs_background": "light"
     },
     "output_type": "display_data"
    }
   ],
   "source": [
    "import matplotlib.pyplot as plt\n",
    "fig = plt.figure()\n",
    "ax = fig.add_subplot(111)\n",
    "plt.plot(np.arange(len(scores)), scores, label='DDPG')\n",
    "plt.plot(np.arange(len(scores)), moving_avgs, c='r', label='Moving AVG')\n",
    "plt.ylabel('Score')\n",
    "plt.xlabel('Episode #')\n",
    "plt.legend(loc='upper left')\n",
    "plt.show()"
   ]
  },
  {
   "cell_type": "code",
   "execution_count": null,
   "metadata": {},
   "outputs": [],
   "source": []
  },
  {
   "cell_type": "code",
   "execution_count": null,
   "metadata": {},
   "outputs": [],
   "source": []
  },
  {
   "cell_type": "markdown",
   "metadata": {},
   "source": [
    "When finished, we should close the environment."
   ]
  },
  {
   "cell_type": "code",
   "execution_count": 4,
   "metadata": {},
   "outputs": [],
   "source": [
    "env.close()"
   ]
  }
 ],
 "metadata": {
  "kernelspec": {
   "display_name": "drlnd",
   "language": "python",
   "name": "drlnd"
  },
  "language_info": {
   "codemirror_mode": {
    "name": "ipython",
    "version": 3
   },
   "file_extension": ".py",
   "mimetype": "text/x-python",
   "name": "python",
   "nbconvert_exporter": "python",
   "pygments_lexer": "ipython3",
   "version": "3.6.10"
  }
 },
 "nbformat": 4,
 "nbformat_minor": 2
}
